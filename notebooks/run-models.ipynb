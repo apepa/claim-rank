{
 "cells": [
  {
   "cell_type": "code",
   "execution_count": 1,
   "metadata": {},
   "outputs": [
    {
     "name": "stdout",
     "output_type": "stream",
     "text": [
      "/home/slav/ai/claim-rank\n"
     ]
    }
   ],
   "source": [
    "%cd /home/slav/ai/claim-rank\n",
    "!export PYTHONPATH=.\n",
    "%load_ext autoreload\n",
    "%autoreload 2"
   ]
  },
  {
   "cell_type": "code",
   "execution_count": 2,
   "metadata": {
    "collapsed": true
   },
   "outputs": [],
   "source": [
    "from tempfile import NamedTemporaryFile\n",
    "import numpy as np\n",
    "np.random.seed(42) # ! before importing keras!"
   ]
  },
  {
   "cell_type": "code",
   "execution_count": 3,
   "metadata": {},
   "outputs": [
    {
     "name": "stderr",
     "output_type": "stream",
     "text": [
      "/home/slav/anaconda3/envs/ai/lib/python3.5/site-packages/h5py/__init__.py:36: FutureWarning: Conversion of the second argument of issubdtype from `float` to `np.floating` is deprecated. In future, it will be treated as `np.float64 == np.dtype(float).type`.\n",
      "  from ._conv import register_converters as _register_converters\n",
      "Using TensorFlow backend.\n"
     ]
    }
   ],
   "source": [
    "from keras.layers import Input, Embedding, Conv1D, Dense\n",
    "from keras.models import Model, load_model\n",
    "from keras.layers import Input, Dense, Dropout\n",
    "from keras import optimizers\n",
    "from sklearn.metrics import average_precision_score"
   ]
  },
  {
   "cell_type": "code",
   "execution_count": 4,
   "metadata": {
    "collapsed": true
   },
   "outputs": [],
   "source": [
    "def load_crossvalidation_data(name='crossval'):\n",
    "    folds = np.load('folds/' + name + '.npy')\n",
    "    return folds;"
   ]
  },
  {
   "cell_type": "code",
   "execution_count": null,
   "metadata": {
    "collapsed": true
   },
   "outputs": [],
   "source": [
    "folds = load_crossvalidation_data(name='cb')"
   ]
  },
  {
   "cell_type": "code",
   "execution_count": null,
   "metadata": {
    "collapsed": true
   },
   "outputs": [],
   "source": [
    "def create_baseline_model(in_count, out_count):\n",
    "    input_layer = Input(shape=(in_count,))\n",
    "    x = Dense(100, kernel_initializer='normal', activation='relu')(input_layer)\n",
    "    \n",
    "    outputs = list(map(lambda _: Dense(1, kernel_initializer='normal', activation='sigmoid')(x), range(out_count)))\n",
    "\n",
    "    model = Model(inputs=[input_layer], outputs=outputs)\n",
    "                         \n",
    "    model.compile(optimizer='adam', \n",
    "                  loss='binary_crossentropy',\n",
    "                  metrics=['accuracy'])\n",
    "    return model;"
   ]
  },
  {
   "cell_type": "code",
   "execution_count": null,
   "metadata": {
    "collapsed": true
   },
   "outputs": [],
   "source": [
    "def run_single_model(X_train, X_val, X_test, train_target, val_targets, test_targets, create_model = create_baseline_model, iters = 20, epochs=5):\n",
    "    model = create_model(X_train.shape[1], 1);\n",
    "    best_models = [{'av_p_val': 0., 'iter': -1, 'av_p_test': 0., 'file': NamedTemporaryFile()} for _ in test_targets]\n",
    "\n",
    "    for ite in range(iters):\n",
    "        \n",
    "        model.fit(X_train, y=train_target, epochs=epochs, verbose=0, batch_size=550)\n",
    "\n",
    "        print(str(epochs * (ite + 1)) + ' ', end='')\n",
    "        \n",
    "        predicted_val = model.predict(X_val)[:, 0]\n",
    "        \n",
    "        for j in range(len(test_targets)):\n",
    "            av_p_val = average_precision_score(val_targets[j], predicted_val)\n",
    "            if (av_p_val > best_models[j]['av_p_val']):\n",
    "                file = best_models[j]['file']\n",
    "                model.save(file.name)\n",
    "                best_models[j] = {'av_p_val': av_p_val, 'iter': ite, 'file': file}\n",
    "    \n",
    "    print()\n",
    "    \n",
    "    for j in range(len(test_targets)):\n",
    "        file = best_models[j]['file']\n",
    "        model = load_model(file.name)\n",
    "        file.close()\n",
    "        best_models[j]['av_p_test'] = average_precision_score(test_targets[j], model.predict(X_test)[:, 0])\n",
    "    \n",
    "    return best_models"
   ]
  },
  {
   "cell_type": "code",
   "execution_count": null,
   "metadata": {
    "collapsed": true
   },
   "outputs": [],
   "source": [
    "def run_multiple_model(X_train, X_val, X_test, train_targets, val_targets, test_targets, log_indexes, create_model = create_baseline_model, iters = 20, epochs=5):\n",
    "    model = create_model(X_train.shape[1], len(train_targets));\n",
    "    best_models = [{'av_p_val': 0., 'iter': -1, 'av_p_test': 0., 'file': NamedTemporaryFile()} for _ in test_targets]\n",
    "\n",
    "    for ite in range(iters):\n",
    "        \n",
    "        model.fit(X_train, y=train_targets, epochs=epochs, verbose=0, batch_size=550)\n",
    "    \n",
    "        print(str(epochs * (ite + 1)) + ' ', end='')\n",
    "        \n",
    "        predicted_val = np.array(model.predict(X_val))\n",
    "        \n",
    "        for j, i in enumerate(log_indexes):\n",
    "            av_p_val = average_precision_score(val_targets[j], predicted_val[i][:, 0])\n",
    "            if (av_p_val > best_models[j]['av_p_val']):\n",
    "                file = best_models[j]['file']\n",
    "                model.save(file.name)\n",
    "                best_models[j] = {'av_p_val': av_p_val, 'iter': ite, 'file': file}\n",
    "    \n",
    "    print()\n",
    "    \n",
    "    for j, i in enumerate(log_indexes):\n",
    "        file = best_models[j]['file']\n",
    "        model = load_model(file.name)\n",
    "        file.close()\n",
    "        best_models[j]['av_p_test'] = average_precision_score(test_targets[j], model.predict(X_test)[i][:, 0])\n",
    "    \n",
    "    return best_models"
   ]
  },
  {
   "cell_type": "code",
   "execution_count": null,
   "metadata": {
    "collapsed": true
   },
   "outputs": [],
   "source": [
    "def crossValidateSingle(folds, train_targets, test_targets):\n",
    "    models_sums = [0 for _ in test_targets]\n",
    "    for fold in folds:\n",
    "        X_train, X_val, X_test, y_train, y_val, y_test = fold\n",
    "        y_train = list(y_train[:, train_targets].T)\n",
    "        y_val = y_val[:, test_targets].T\n",
    "        y_test = y_test[:, test_targets].T\n",
    "        print(X_train.shape)\n",
    "        models = run_single_model(X_train, X_val, X_test, y_train, y_val, y_test)\n",
    "        print(models)\n",
    "        models_sums = [prev + curr['av_p_test'] for prev, curr in zip(models_sums, models)]\n",
    "        \n",
    "    print(np.array(models_sums) / len(folds))\n",
    "    "
   ]
  },
  {
   "cell_type": "code",
   "execution_count": null,
   "metadata": {
    "collapsed": true
   },
   "outputs": [],
   "source": [
    "def crossValidateMultiple(folds, train_targets, test_targets, log_indexes):\n",
    "    models_sums = [0 for _ in test_targets]\n",
    "    for fold in folds:\n",
    "        X_train, X_val, X_test, y_train, y_val, y_test = fold\n",
    "        y_train = list(y_train[:, train_targets].T)\n",
    "        y_val = y_val[:, test_targets].T\n",
    "        y_test = y_test[:, test_targets].T\n",
    "        print(X_train.shape)\n",
    "        models = run_multiple_model(X_train, X_val, X_test, y_train, y_val, y_test, log_indexes)\n",
    "        print(models)\n",
    "        models_sums = [prev + curr['av_p_test'] for prev, curr in zip(models_sums, models)]\n",
    "        \n",
    "    \n",
    "    print(np.array(models_sums) / len(folds))"
   ]
  },
  {
   "cell_type": "code",
   "execution_count": null,
   "metadata": {
    "collapsed": true
   },
   "outputs": [],
   "source": [
    "folds = load_crossvalidation_data(name='cb')\n",
    "crossValidateSingle(folds, [6], [0, 6])"
   ]
  },
  {
   "cell_type": "code",
   "execution_count": null,
   "metadata": {
    "collapsed": true
   },
   "outputs": [],
   "source": [
    "crossValidateMultiple(folds, [0, 6], [0, 6], [0, 1])"
   ]
  },
  {
   "cell_type": "code",
   "execution_count": null,
   "metadata": {
    "collapsed": true
   },
   "outputs": [],
   "source": [
    "crossValidateMultiple(folds, range(10), [0, 6], [0, 6])"
   ]
  },
  {
   "cell_type": "code",
   "execution_count": null,
   "metadata": {
    "collapsed": true
   },
   "outputs": [],
   "source": [
    "crossValidateMultiple(folds, range(1, 10), [6], [5])"
   ]
  },
  {
   "cell_type": "code",
   "execution_count": null,
   "metadata": {
    "collapsed": true
   },
   "outputs": [],
   "source": [
    "folds = load_crossvalidation_data(name='experimental')\n",
    "print()\n",
    "crossValidateSingle(folds, [0], [0, 6])\n",
    "\n",
    "print()\n",
    "crossValidateSingle(folds, [6], [0, 6])\n",
    "\n",
    "print()\n",
    "crossValidateMultiple(folds, [0, 6], [0, 6], [0, 1])\n",
    "\n",
    "print()\n",
    "crossValidateMultiple(folds, range(10), [0, 6], [0, 6])\n",
    "\n",
    "print()\n",
    "crossValidateMultiple(folds, range(1,10), [6], [5])"
   ]
  },
  {
   "cell_type": "code",
   "execution_count": null,
   "metadata": {
    "collapsed": true
   },
   "outputs": [],
   "source": [
    "crossValidateMultiple(folds, range(10), range(1, 10), range(1, 10))"
   ]
  },
  {
   "cell_type": "code",
   "execution_count": null,
   "metadata": {
    "collapsed": true
   },
   "outputs": [],
   "source": [
    "for i in range(1,10):\n",
    "    print(i)\n",
    "    crossValidateSingle(folds, [i], [i])"
   ]
  },
  {
   "cell_type": "code",
   "execution_count": null,
   "metadata": {
    "collapsed": true
   },
   "outputs": [],
   "source": []
  }
 ],
 "metadata": {
  "kernelspec": {
   "display_name": "Python (ai)",
   "language": "python",
   "name": "ai"
  },
  "language_info": {
   "codemirror_mode": {
    "name": "ipython",
    "version": 3
   },
   "file_extension": ".py",
   "mimetype": "text/x-python",
   "name": "python",
   "nbconvert_exporter": "python",
   "pygments_lexer": "ipython3",
   "version": "3.5.4"
  }
 },
 "nbformat": 4,
 "nbformat_minor": 2
}
