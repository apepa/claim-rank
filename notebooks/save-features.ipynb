{
 "cells": [
  {
   "cell_type": "code",
   "execution_count": 1,
   "metadata": {},
   "outputs": [
    {
     "name": "stdout",
     "output_type": "stream",
     "text": [
      "/home/slav/ai/claim-rank\n"
     ]
    }
   ],
   "source": [
    "%cd /home/slav/ai/claim-rank\n",
    "!export PYTHONPATH=.\n",
    "%load_ext autoreload\n",
    "%autoreload 2"
   ]
  },
  {
   "cell_type": "code",
   "execution_count": 2,
   "metadata": {
    "collapsed": true
   },
   "outputs": [],
   "source": [
    "from src.data.debates import read_debates, Debate\n",
    "from src.features.save_features import *\n",
    "from src.features.feature_sets import *"
   ]
  },
  {
   "cell_type": "code",
   "execution_count": 3,
   "metadata": {
    "collapsed": true
   },
   "outputs": [],
   "source": [
    "debates = [Debate.FIRST, Debate.VP, Debate.SECOND, Debate.THIRD]\n",
    "debate_sentences = np.array([read_debates(debate) for debate in debates])"
   ]
  },
  {
   "cell_type": "code",
   "execution_count": 5,
   "metadata": {},
   "outputs": [
    {
     "name": "stdout",
     "output_type": "stream",
     "text": [
      "['opponent', 'sent', 'chunk_id', '(laugh', 'in_chunk_rel', 'speaker', 'in_chunk_it', 'chunk_size', 'first', 'negs_next_chunk', 'tense', 'prev_chunk_size', '(applause', 'lda_dist_next', '(laughter', 'w2v_dist_prev', 'participant', 'pos', 'w2v_dist_next', 'w2v_dist', 'lexicons', 'number_in_chunk', 'mod_chunk', 'lda_dist', 'contras', 'w2v_vector', 'pf_match_score', 'negs_next', 'ner_count_nltk', 'last', 'lda_dist_prev', 'text_len', 'syntactic_parse', 'pf_match_with_person', 'next_chunk_size', 'lda', '(crosstalk', 'contras_next', 'tokens_num', 'negs', 'ner', 'contras_next_chunk', 'bag_tfidf_n', 'match_score', 'match_with_person']\n",
      "['opponent', 'sent', 'chunk_id', '(laugh', 'in_chunk_rel', 'speaker', 'in_chunk_it', 'chunk_size', 'first', 'negs_next_chunk', 'tense', 'prev_chunk_size', '(applause', 'lda_dist_next', '(laughter', 'w2v_dist_prev', 'participant', 'pos', 'w2v_dist_next', 'w2v_dist', 'lexicons', 'number_in_chunk', 'mod_chunk', 'lda_dist', 'contras', 'w2v_vector', 'pf_match_score', 'negs_next', 'ner_count_nltk', 'last', 'lda_dist_prev', 'text_len', 'syntactic_parse', 'pf_match_with_person', 'next_chunk_size', 'lda', '(crosstalk', 'contras_next', 'tokens_num', 'negs', 'ner', 'contras_next_chunk', 'bag_tfidf_n', 'match_score', 'match_with_person']\n",
      "['opponent', 'sent', 'chunk_id', '(laugh', 'in_chunk_rel', 'speaker', 'in_chunk_it', 'chunk_size', 'first', 'negs_next_chunk', 'tense', 'prev_chunk_size', '(applause', 'lda_dist_next', '(laughter', 'w2v_dist_prev', 'participant', 'pos', 'w2v_dist_next', 'w2v_dist', 'lexicons', 'number_in_chunk', 'mod_chunk', 'lda_dist', 'contras', 'w2v_vector', 'pf_match_score', 'negs_next', 'ner_count_nltk', 'last', 'lda_dist_prev', 'text_len', 'syntactic_parse', 'pf_match_with_person', 'next_chunk_size', 'lda', '(crosstalk', 'contras_next', 'tokens_num', 'negs', 'ner', 'contras_next_chunk', 'bag_tfidf_n', 'match_score', 'match_with_person']\n",
      "['opponent', 'sent', 'chunk_id', '(laugh', 'in_chunk_rel', 'speaker', 'in_chunk_it', 'chunk_size', 'first', 'negs_next_chunk', 'tense', 'prev_chunk_size', '(applause', 'lda_dist_next', '(laughter', 'w2v_dist_prev', 'participant', 'pos', 'w2v_dist_next', 'w2v_dist', 'lexicons', 'number_in_chunk', 'mod_chunk', 'lda_dist', 'contras', 'w2v_vector', 'pf_match_score', 'negs_next', 'ner_count_nltk', 'last', 'lda_dist_prev', 'text_len', 'syntactic_parse', 'pf_match_with_person', 'next_chunk_size', 'lda', '(crosstalk', 'contras_next', 'tokens_num', 'negs', 'ner', 'contras_next_chunk', 'bag_tfidf_n', 'match_score', 'match_with_person']\n"
     ]
    }
   ],
   "source": [
    "crossvalidation_indices = [[[0, 1, 2], [3]], [[0, 1, 3], [2]], [[0, 3, 2], [1]], [[3, 1, 2], [0]]]\n",
    "save_data(debate_sentences, crossvalidation_indices, get_serialized_pipeline, name='better_features')"
   ]
  },
  {
   "cell_type": "code",
   "execution_count": null,
   "metadata": {
    "collapsed": true
   },
   "outputs": [],
   "source": []
  }
 ],
 "metadata": {
  "kernelspec": {
   "display_name": "Python (ai)",
   "language": "python",
   "name": "ai"
  },
  "language_info": {
   "codemirror_mode": {
    "name": "ipython",
    "version": 3
   },
   "file_extension": ".py",
   "mimetype": "text/x-python",
   "name": "python",
   "nbconvert_exporter": "python",
   "pygments_lexer": "ipython3",
   "version": "3.5.4"
  }
 },
 "nbformat": 4,
 "nbformat_minor": 2
}
