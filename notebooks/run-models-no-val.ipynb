{
 "cells": [
  {
   "cell_type": "code",
   "execution_count": 1,
   "metadata": {},
   "outputs": [
    {
     "name": "stdout",
     "output_type": "stream",
     "text": [
      "/home/slav/ai/claim-rank\n"
     ]
    }
   ],
   "source": [
    "%cd /home/slav/ai/claim-rank\n",
    "!export PYTHONPATH=.\n",
    "%load_ext autoreload\n",
    "%autoreload 2"
   ]
  },
  {
   "cell_type": "code",
   "execution_count": 2,
   "metadata": {},
   "outputs": [
    {
     "name": "stderr",
     "output_type": "stream",
     "text": [
      "/home/slav/anaconda3/envs/ai/lib/python3.5/site-packages/h5py/__init__.py:36: FutureWarning: Conversion of the second argument of issubdtype from `float` to `np.floating` is deprecated. In future, it will be treated as `np.float64 == np.dtype(float).type`.\n",
      "  from ._conv import register_converters as _register_converters\n",
      "Using TensorFlow backend.\n"
     ]
    }
   ],
   "source": [
    "from tempfile import NamedTemporaryFile\n",
    "import numpy as np\n",
    "from src.models.keras.model_runner import *\n"
   ]
  },
  {
   "cell_type": "code",
   "execution_count": 3,
   "metadata": {
    "collapsed": true
   },
   "outputs": [],
   "source": [
    "from keras.layers import Input, Embedding, Conv1D, Dense\n",
    "from keras.models import Model, load_model\n",
    "from keras.layers import Input, Dense, Dropout\n",
    "from keras import optimizers\n",
    "from sklearn.metrics import average_precision_score"
   ]
  },
  {
   "cell_type": "code",
   "execution_count": 42,
   "metadata": {
    "collapsed": true
   },
   "outputs": [],
   "source": [
    "from keras.layers import *\n",
    "from keras.callbacks import TensorBoard, ModelCheckpoint, EarlyStopping\n",
    "from keras.optimizers import *\n",
    "from keras.models import Model\n",
    "from keras.initializers import *\n",
    "from keras import regularizers"
   ]
  },
  {
   "cell_type": "code",
   "execution_count": 4,
   "metadata": {
    "collapsed": true
   },
   "outputs": [],
   "source": [
    "def load_crossvalidation_data(name='crossval'):\n",
    "    folds = np.load('folds/' + name + '.npy')\n",
    "    return folds;"
   ]
  },
  {
   "cell_type": "code",
   "execution_count": 72,
   "metadata": {
    "collapsed": true
   },
   "outputs": [],
   "source": [
    "def create_baseline_model(in_count, out_count):\n",
    "    input_layer = Input(shape=(in_count,))\n",
    "    x = Dense(200, kernel_initializer='normal', activation='relu',\n",
    "                                       kernel_regularizer=regularizers.l2(0.002))(input_layer)\n",
    "    \n",
    "    outputs = list(map(lambda i: Dense(2, kernel_initializer='normal', activation='softmax', \n",
    "                                       kernel_regularizer=regularizers.l2(0.002),\n",
    "                                       name='pred_' + str(i))(x), range(out_count)))\n",
    "    \n",
    "    opt=SGD(lr=0.001, momentum=True, nesterov=0.9, decay=0)\n",
    "    \n",
    "    model = Model(inputs=[input_layer], outputs=outputs)\n",
    "    model.compile(optimizer=opt, \n",
    "                  loss='categorical_crossentropy',\n",
    "                  metrics=['accuracy'])\n",
    "    return model;"
   ]
  },
  {
   "cell_type": "code",
   "execution_count": 63,
   "metadata": {
    "collapsed": true
   },
   "outputs": [],
   "source": [
    "def run_model(X_train, X_test, train_target, test_targets, create_model = create_baseline_model, epochs=100):\n",
    "    model = create_model(X_train.shape[1], 1)\n",
    "    model.fit(X_train, [[0,1] if t==0 else [1,0] for t in train_target[0]], epochs=epochs,\n",
    "              validation_split=0.05, batch_size=50, verbose=1)\n",
    "    return [average_precision_score(test_targets[j], model.predict(X_test)[:, 0])\n",
    "         for j in range(len(test_targets))]\n",
    "    "
   ]
  },
  {
   "cell_type": "code",
   "execution_count": 8,
   "metadata": {
    "collapsed": true
   },
   "outputs": [],
   "source": [
    "def run_model_multiple(X_train, X_test, train_targets, test_targets, log_indexes, create_model = create_baseline_model, epochs=20):\n",
    "    model = create_model(X_train.shape[1], len(train_targets))\n",
    "    \n",
    "    \n",
    "    model.fit(X_train, train_targets, epochs=epochs, batch_size=550, verbose=0)\n",
    "    return [average_precision_score(test_targets[j], model.predict(X_test)[i][:, 0])\n",
    "            for j, i in enumerate(log_indexes)]"
   ]
  },
  {
   "cell_type": "code",
   "execution_count": 9,
   "metadata": {
    "collapsed": true
   },
   "outputs": [],
   "source": [
    "def cross_validate(folds, train_targets, test_targets):\n",
    "    models_sums = [0 for _ in test_targets]\n",
    "    for fold in folds:\n",
    "        X_train, X_test, y_train, y_test = fold\n",
    "        y_train = list(y_train[:, train_targets].T)\n",
    "        y_test = y_test[:, test_targets].T\n",
    "        models = run_model(X_train, X_test, y_train, y_test)\n",
    "        models_sums = [prev + curr for prev, curr in zip(models_sums, models)]\n",
    "\n",
    "    print(np.array(models_sums) / len(folds))"
   ]
  },
  {
   "cell_type": "code",
   "execution_count": 10,
   "metadata": {
    "collapsed": true
   },
   "outputs": [],
   "source": [
    "def cross_validate_multiple(folds, train_targets, test_targets, log_indexes):\n",
    "    models_sums = [0 for _ in test_targets]\n",
    "    for fold in folds:\n",
    "        X_train, X_test, y_train, y_test = fold\n",
    "        y_train = list(y_train[:, train_targets].T)\n",
    "        y_test = y_test[:, test_targets].T\n",
    "        models = run_model_multiple(X_train, X_test, y_train, y_test, log_indexes)\n",
    "        models_sums = [prev + curr for prev, curr in zip(models_sums, models)]\n",
    "\n",
    "    print(np.array(models_sums) / len(folds))"
   ]
  },
  {
   "cell_type": "code",
   "execution_count": 11,
   "metadata": {
    "collapsed": true
   },
   "outputs": [],
   "source": [
    "folds = load_crossvalidation_data(name='serialized')\n"
   ]
  },
  {
   "cell_type": "code",
   "execution_count": 73,
   "metadata": {},
   "outputs": [
    {
     "name": "stdout",
     "output_type": "stream",
     "text": [
      "Train on 3860 samples, validate on 204 samples\n",
      "Epoch 1/100\n",
      "3860/3860 [==============================] - 3s 837us/step - loss: 0.9119 - acc: 0.9477 - val_loss: 0.6067 - val_acc: 0.9902\n",
      "Epoch 2/100\n",
      "3860/3860 [==============================] - 0s 77us/step - loss: 0.7839 - acc: 0.9492 - val_loss: 0.5762 - val_acc: 0.9902\n",
      "Epoch 3/100\n",
      "3860/3860 [==============================] - 0s 77us/step - loss: 0.7237 - acc: 0.9492 - val_loss: 0.6250 - val_acc: 0.9902\n",
      "Epoch 4/100\n",
      "3860/3860 [==============================] - 0s 76us/step - loss: 0.6603 - acc: 0.9492 - val_loss: 0.4850 - val_acc: 0.9902\n",
      "Epoch 5/100\n",
      "3860/3860 [==============================] - 0s 79us/step - loss: 0.6162 - acc: 0.9492 - val_loss: 0.4762 - val_acc: 0.9902\n",
      "Epoch 6/100\n",
      "3860/3860 [==============================] - 0s 77us/step - loss: 0.5784 - acc: 0.9492 - val_loss: 0.3970 - val_acc: 0.9902\n",
      "Epoch 7/100\n",
      "3860/3860 [==============================] - 0s 75us/step - loss: 0.5411 - acc: 0.9492 - val_loss: 0.4013 - val_acc: 0.9902\n",
      "Epoch 8/100\n",
      "3860/3860 [==============================] - 0s 77us/step - loss: 0.4906 - acc: 0.9492 - val_loss: 0.3785 - val_acc: 0.9902\n",
      "Epoch 9/100\n",
      "3860/3860 [==============================] - 0s 77us/step - loss: 0.4661 - acc: 0.9495 - val_loss: 0.3668 - val_acc: 0.9902\n",
      "Epoch 10/100\n",
      "3860/3860 [==============================] - 0s 76us/step - loss: 0.4559 - acc: 0.9490 - val_loss: 0.3231 - val_acc: 0.9902\n",
      "Epoch 11/100\n",
      "3860/3860 [==============================] - 0s 77us/step - loss: 0.4612 - acc: 0.9492 - val_loss: 0.3559 - val_acc: 0.9902\n",
      "Epoch 12/100\n",
      "3860/3860 [==============================] - 0s 77us/step - loss: 0.4745 - acc: 0.9492 - val_loss: 0.3962 - val_acc: 0.9902\n",
      "Epoch 13/100\n",
      "3860/3860 [==============================] - 0s 75us/step - loss: 0.5049 - acc: 0.9500 - val_loss: 0.4600 - val_acc: 0.9755\n",
      "Epoch 14/100\n",
      "3860/3860 [==============================] - 0s 76us/step - loss: 0.5544 - acc: 0.9505 - val_loss: 0.4976 - val_acc: 0.9902\n",
      "Epoch 15/100\n",
      "3860/3860 [==============================] - 0s 77us/step - loss: 0.6061 - acc: 0.9518 - val_loss: 0.5831 - val_acc: 0.9706\n",
      "Epoch 16/100\n",
      "3860/3860 [==============================] - 0s 77us/step - loss: 0.6526 - acc: 0.9526 - val_loss: 0.6092 - val_acc: 0.9755\n",
      "Epoch 17/100\n",
      "3860/3860 [==============================] - 0s 77us/step - loss: 0.6897 - acc: 0.9539 - val_loss: 0.6631 - val_acc: 0.9657\n",
      "Epoch 18/100\n",
      "3860/3860 [==============================] - 0s 77us/step - loss: 0.7182 - acc: 0.9552 - val_loss: 0.6803 - val_acc: 0.9755\n",
      "Epoch 19/100\n",
      "3860/3860 [==============================] - 0s 77us/step - loss: 0.7427 - acc: 0.9534 - val_loss: 0.6836 - val_acc: 0.9804\n",
      "Epoch 20/100\n",
      "3860/3860 [==============================] - 0s 83us/step - loss: 0.7540 - acc: 0.9536 - val_loss: 0.6886 - val_acc: 0.9755\n",
      "Epoch 21/100\n",
      "3860/3860 [==============================] - 0s 89us/step - loss: 0.7357 - acc: 0.9562 - val_loss: 0.6932 - val_acc: 0.9706\n",
      "Epoch 22/100\n",
      "3860/3860 [==============================] - 0s 88us/step - loss: 0.7117 - acc: 0.9573 - val_loss: 0.6695 - val_acc: 0.9755\n",
      "Epoch 23/100\n",
      "3860/3860 [==============================] - 0s 80us/step - loss: 0.6884 - acc: 0.9544 - val_loss: 0.6098 - val_acc: 0.9804\n",
      "Epoch 24/100\n",
      "3860/3860 [==============================] - 0s 80us/step - loss: 0.6232 - acc: 0.9609 - val_loss: 0.5445 - val_acc: 0.9804\n",
      "Epoch 25/100\n",
      "3860/3860 [==============================] - 0s 80us/step - loss: 0.5813 - acc: 0.9601 - val_loss: 0.4984 - val_acc: 0.9804\n",
      "Epoch 26/100\n",
      "3860/3860 [==============================] - 0s 76us/step - loss: 0.5162 - acc: 0.9609 - val_loss: 0.4619 - val_acc: 0.9853\n",
      "Epoch 27/100\n",
      "3860/3860 [==============================] - 0s 77us/step - loss: 0.4628 - acc: 0.9648 - val_loss: 0.3860 - val_acc: 0.9853\n",
      "Epoch 28/100\n",
      "3860/3860 [==============================] - 0s 76us/step - loss: 0.4448 - acc: 0.9624 - val_loss: 0.3630 - val_acc: 0.9804\n",
      "Epoch 29/100\n",
      "3860/3860 [==============================] - 0s 77us/step - loss: 0.4008 - acc: 0.9640 - val_loss: 0.4013 - val_acc: 0.9755\n",
      "Epoch 30/100\n",
      "3860/3860 [==============================] - 0s 76us/step - loss: 0.3995 - acc: 0.9622 - val_loss: 0.3934 - val_acc: 0.9706\n",
      "Epoch 31/100\n",
      "3860/3860 [==============================] - 0s 80us/step - loss: 0.4147 - acc: 0.9609 - val_loss: 0.3936 - val_acc: 0.9755\n",
      "Epoch 32/100\n",
      "3860/3860 [==============================] - 0s 80us/step - loss: 0.4139 - acc: 0.9648 - val_loss: 0.4387 - val_acc: 0.9657\n",
      "Epoch 33/100\n",
      "3860/3860 [==============================] - 0s 75us/step - loss: 0.4454 - acc: 0.9702 - val_loss: 0.4713 - val_acc: 0.9706\n",
      "Epoch 34/100\n",
      "3860/3860 [==============================] - 0s 77us/step - loss: 0.4940 - acc: 0.9720 - val_loss: 0.4898 - val_acc: 0.9853\n",
      "Epoch 35/100\n",
      "3860/3860 [==============================] - 0s 77us/step - loss: 0.5492 - acc: 0.9707 - val_loss: 0.5570 - val_acc: 0.9853\n",
      "Epoch 36/100\n",
      "3860/3860 [==============================] - 0s 77us/step - loss: 0.6096 - acc: 0.9661 - val_loss: 0.6042 - val_acc: 0.9853\n",
      "Epoch 37/100\n",
      "3860/3860 [==============================] - 0s 78us/step - loss: 0.6686 - acc: 0.9658 - val_loss: 0.6666 - val_acc: 0.9853\n",
      "Epoch 38/100\n",
      "3860/3860 [==============================] - 0s 77us/step - loss: 0.7225 - acc: 0.9637 - val_loss: 0.6915 - val_acc: 0.9853\n",
      "Epoch 39/100\n",
      "3860/3860 [==============================] - 0s 78us/step - loss: 0.7679 - acc: 0.9567 - val_loss: 0.7247 - val_acc: 0.9902\n",
      "Epoch 40/100\n",
      "3860/3860 [==============================] - 0s 77us/step - loss: 0.7885 - acc: 0.9565 - val_loss: 0.7462 - val_acc: 0.9902\n",
      "Epoch 41/100\n",
      "3860/3860 [==============================] - 0s 77us/step - loss: 0.7909 - acc: 0.9526 - val_loss: 0.7300 - val_acc: 0.9804\n",
      "Epoch 42/100\n",
      "3860/3860 [==============================] - 0s 78us/step - loss: 0.7549 - acc: 0.9565 - val_loss: 0.6783 - val_acc: 0.9853\n",
      "Epoch 43/100\n",
      "3860/3860 [==============================] - 0s 78us/step - loss: 0.7061 - acc: 0.9606 - val_loss: 0.6427 - val_acc: 0.9755\n",
      "Epoch 44/100\n",
      "3860/3860 [==============================] - 0s 77us/step - loss: 0.6497 - acc: 0.9624 - val_loss: 0.6063 - val_acc: 0.9657\n",
      "Epoch 45/100\n",
      "3860/3860 [==============================] - 0s 78us/step - loss: 0.5888 - acc: 0.9645 - val_loss: 0.5331 - val_acc: 0.9804\n",
      "Epoch 46/100\n",
      "3860/3860 [==============================] - 0s 77us/step - loss: 0.5301 - acc: 0.9642 - val_loss: 0.4712 - val_acc: 0.9804\n",
      "Epoch 47/100\n",
      "3860/3860 [==============================] - 0s 77us/step - loss: 0.4731 - acc: 0.9655 - val_loss: 0.4034 - val_acc: 0.9902\n",
      "Epoch 48/100\n",
      "3860/3860 [==============================] - 0s 78us/step - loss: 0.4406 - acc: 0.9588 - val_loss: 0.3632 - val_acc: 0.9902\n",
      "Epoch 49/100\n",
      "3860/3860 [==============================] - 0s 78us/step - loss: 0.4080 - acc: 0.9635 - val_loss: 0.3502 - val_acc: 0.9853\n",
      "Epoch 50/100\n",
      "3860/3860 [==============================] - 0s 77us/step - loss: 0.3938 - acc: 0.9627 - val_loss: 0.3922 - val_acc: 0.9608\n",
      "Epoch 51/100\n",
      "3860/3860 [==============================] - 0s 78us/step - loss: 0.4026 - acc: 0.9609 - val_loss: 0.3507 - val_acc: 0.9902\n",
      "Epoch 52/100\n",
      "3860/3860 [==============================] - 0s 82us/step - loss: 0.4255 - acc: 0.9614 - val_loss: 0.4377 - val_acc: 0.9755\n",
      "Epoch 53/100\n",
      "3860/3860 [==============================] - 0s 80us/step - loss: 0.4650 - acc: 0.9606 - val_loss: 0.4509 - val_acc: 0.9755\n",
      "Epoch 54/100\n",
      "3860/3860 [==============================] - 0s 80us/step - loss: 0.5042 - acc: 0.9650 - val_loss: 0.4878 - val_acc: 0.9755\n",
      "Epoch 55/100\n",
      "3860/3860 [==============================] - 0s 82us/step - loss: 0.5605 - acc: 0.9598 - val_loss: 0.5627 - val_acc: 0.9853\n",
      "Epoch 56/100\n",
      "3860/3860 [==============================] - 0s 80us/step - loss: 0.6152 - acc: 0.9604 - val_loss: 0.6226 - val_acc: 0.9706\n",
      "Epoch 57/100\n",
      "3860/3860 [==============================] - 0s 79us/step - loss: 0.6682 - acc: 0.9632 - val_loss: 0.6461 - val_acc: 0.9755\n",
      "Epoch 58/100\n",
      "3860/3860 [==============================] - 0s 78us/step - loss: 0.7099 - acc: 0.9627 - val_loss: 0.6900 - val_acc: 0.9755\n",
      "Epoch 59/100\n",
      "3860/3860 [==============================] - 0s 78us/step - loss: 0.7466 - acc: 0.9575 - val_loss: 0.7099 - val_acc: 0.9755\n",
      "Epoch 60/100\n",
      "3860/3860 [==============================] - 0s 75us/step - loss: 0.7628 - acc: 0.9604 - val_loss: 0.7160 - val_acc: 0.9902\n",
      "Epoch 61/100\n",
      "3860/3860 [==============================] - 0s 75us/step - loss: 0.7657 - acc: 0.9622 - val_loss: 0.7164 - val_acc: 0.9804\n",
      "Epoch 62/100\n",
      "3860/3860 [==============================] - 0s 75us/step - loss: 0.7606 - acc: 0.9575 - val_loss: 0.7014 - val_acc: 0.9804\n",
      "Epoch 63/100\n",
      "3860/3860 [==============================] - 0s 76us/step - loss: 0.7222 - acc: 0.9596 - val_loss: 0.6771 - val_acc: 0.9755\n",
      "Epoch 64/100\n",
      "3860/3860 [==============================] - 0s 77us/step - loss: 0.6790 - acc: 0.9609 - val_loss: 0.6253 - val_acc: 0.9804\n",
      "Epoch 65/100\n",
      "3860/3860 [==============================] - 0s 75us/step - loss: 0.6283 - acc: 0.9627 - val_loss: 0.5825 - val_acc: 0.9706\n",
      "Epoch 66/100\n",
      "3860/3860 [==============================] - 0s 76us/step - loss: 0.5633 - acc: 0.9648 - val_loss: 0.4992 - val_acc: 0.9804\n",
      "Epoch 67/100\n",
      "3860/3860 [==============================] - 0s 75us/step - loss: 0.5027 - acc: 0.9694 - val_loss: 0.4417 - val_acc: 0.9755\n",
      "Epoch 68/100\n",
      "3860/3860 [==============================] - 0s 75us/step - loss: 0.4556 - acc: 0.9666 - val_loss: 0.4110 - val_acc: 0.9804\n",
      "Epoch 69/100\n",
      "3860/3860 [==============================] - 0s 75us/step - loss: 0.4140 - acc: 0.9684 - val_loss: 0.3639 - val_acc: 0.9804\n",
      "Epoch 70/100\n",
      "3860/3860 [==============================] - 0s 74us/step - loss: 0.4075 - acc: 0.9635 - val_loss: 0.3614 - val_acc: 0.9853\n",
      "Epoch 71/100\n",
      "3860/3860 [==============================] - 0s 75us/step - loss: 0.4068 - acc: 0.9583 - val_loss: 0.9798 - val_acc: 0.6814\n",
      "Epoch 72/100\n",
      "3860/3860 [==============================] - 0s 75us/step - loss: 0.4348 - acc: 0.9593 - val_loss: 0.4037 - val_acc: 0.9755\n",
      "Epoch 73/100\n",
      "3860/3860 [==============================] - 0s 75us/step - loss: 0.4456 - acc: 0.9622 - val_loss: 0.4310 - val_acc: 0.9804\n",
      "Epoch 74/100\n",
      "3860/3860 [==============================] - 0s 75us/step - loss: 0.4773 - acc: 0.9645 - val_loss: 0.4927 - val_acc: 0.9755\n",
      "Epoch 75/100\n",
      "3860/3860 [==============================] - 0s 76us/step - loss: 0.5298 - acc: 0.9635 - val_loss: 0.5161 - val_acc: 0.9853\n",
      "Epoch 76/100\n",
      "3860/3860 [==============================] - 0s 76us/step - loss: 0.5822 - acc: 0.9687 - val_loss: 0.6113 - val_acc: 0.9755\n",
      "Epoch 77/100\n",
      "3860/3860 [==============================] - 0s 75us/step - loss: 0.6340 - acc: 0.9687 - val_loss: 0.6571 - val_acc: 0.9755\n",
      "Epoch 78/100\n",
      "3860/3860 [==============================] - 0s 76us/step - loss: 0.6832 - acc: 0.9679 - val_loss: 0.7033 - val_acc: 0.9706\n",
      "Epoch 79/100\n",
      "3860/3860 [==============================] - 0s 76us/step - loss: 0.7230 - acc: 0.9658 - val_loss: 0.7124 - val_acc: 0.9853\n",
      "Epoch 80/100\n",
      "3860/3860 [==============================] - 0s 74us/step - loss: 0.7493 - acc: 0.9689 - val_loss: 0.7409 - val_acc: 0.9804\n",
      "Epoch 81/100\n",
      "3860/3860 [==============================] - 0s 82us/step - loss: 0.7789 - acc: 0.9596 - val_loss: 0.7445 - val_acc: 0.9804\n",
      "Epoch 82/100\n",
      "3860/3860 [==============================] - 0s 75us/step - loss: 0.7684 - acc: 0.9611 - val_loss: 0.7451 - val_acc: 0.9755\n",
      "Epoch 83/100\n",
      "3860/3860 [==============================] - 0s 75us/step - loss: 0.7553 - acc: 0.9611 - val_loss: 0.7182 - val_acc: 0.9804\n",
      "Epoch 84/100\n",
      "3860/3860 [==============================] - 0s 75us/step - loss: 0.7029 - acc: 0.9622 - val_loss: 0.6827 - val_acc: 0.9706\n",
      "Epoch 85/100\n",
      "3860/3860 [==============================] - 0s 77us/step - loss: 0.6465 - acc: 0.9622 - val_loss: 0.5971 - val_acc: 0.9755\n",
      "Epoch 86/100\n",
      "3860/3860 [==============================] - 0s 76us/step - loss: 0.5828 - acc: 0.9627 - val_loss: 0.5082 - val_acc: 0.9804\n",
      "Epoch 87/100\n",
      "3860/3860 [==============================] - 0s 74us/step - loss: 0.5302 - acc: 0.9611 - val_loss: 0.4394 - val_acc: 0.9902\n",
      "Epoch 88/100\n",
      "3860/3860 [==============================] - 0s 76us/step - loss: 0.4783 - acc: 0.9614 - val_loss: 0.3955 - val_acc: 0.9853\n",
      "Epoch 89/100\n",
      "3860/3860 [==============================] - 0s 75us/step - loss: 0.4367 - acc: 0.9604 - val_loss: 0.3548 - val_acc: 0.9902\n",
      "Epoch 90/100\n",
      "3860/3860 [==============================] - 0s 75us/step - loss: 0.4088 - acc: 0.9591 - val_loss: 0.3934 - val_acc: 0.9608\n",
      "Epoch 91/100\n",
      "3860/3860 [==============================] - 0s 75us/step - loss: 0.4115 - acc: 0.9565 - val_loss: 0.3393 - val_acc: 0.9853\n",
      "Epoch 92/100\n",
      "3860/3860 [==============================] - 0s 75us/step - loss: 0.3992 - acc: 0.9609 - val_loss: 0.3631 - val_acc: 0.9804\n",
      "Epoch 93/100\n",
      "3860/3860 [==============================] - 0s 77us/step - loss: 0.4200 - acc: 0.9598 - val_loss: 0.4969 - val_acc: 0.9510\n",
      "Epoch 94/100\n",
      "3860/3860 [==============================] - 0s 74us/step - loss: 0.4643 - acc: 0.9570 - val_loss: 0.4242 - val_acc: 0.9804\n",
      "Epoch 95/100\n",
      "3860/3860 [==============================] - 0s 75us/step - loss: 0.5213 - acc: 0.9544 - val_loss: 0.4756 - val_acc: 0.9853\n",
      "Epoch 96/100\n",
      "3860/3860 [==============================] - 0s 76us/step - loss: 0.5715 - acc: 0.9588 - val_loss: 0.5571 - val_acc: 0.9804\n",
      "Epoch 97/100\n",
      "3860/3860 [==============================] - 0s 76us/step - loss: 0.6415 - acc: 0.9549 - val_loss: 0.6196 - val_acc: 0.9755\n",
      "Epoch 98/100\n",
      "3860/3860 [==============================] - 0s 76us/step - loss: 0.6898 - acc: 0.9591 - val_loss: 0.6579 - val_acc: 0.9755\n",
      "Epoch 99/100\n",
      "3860/3860 [==============================] - 0s 75us/step - loss: 0.7361 - acc: 0.9554 - val_loss: 0.7013 - val_acc: 0.9755\n",
      "Epoch 100/100\n",
      "3860/3860 [==============================] - 0s 76us/step - loss: 0.7679 - acc: 0.9575 - val_loss: 0.7676 - val_acc: 0.9755\n",
      "[0.23345842]\n"
     ]
    }
   ],
   "source": [
    "init_session(use_gpu=False)\n",
    "cross_validate([folds[0]], [6], [6])"
   ]
  },
  {
   "cell_type": "code",
   "execution_count": null,
   "metadata": {
    "collapsed": true
   },
   "outputs": [],
   "source": [
    "for i in range(1,10):\n",
    "    cross_validate(folds, [i], [i])"
   ]
  },
  {
   "cell_type": "code",
   "execution_count": null,
   "metadata": {
    "collapsed": true
   },
   "outputs": [],
   "source": [
    "cross_validate_multiple(folds, range(10), range(1, 10), range(1, 10))"
   ]
  },
  {
   "cell_type": "code",
   "execution_count": 17,
   "metadata": {},
   "outputs": [
    {
     "name": "stdout",
     "output_type": "stream",
     "text": [
      "[0.16473989 0.04739189]\n"
     ]
    }
   ],
   "source": [
    "init_session(use_gpu=False)\n",
    "cross_validate_multiple(folds, [0, 6], [0, 6], [0, 1])"
   ]
  },
  {
   "cell_type": "code",
   "execution_count": null,
   "metadata": {
    "collapsed": true
   },
   "outputs": [],
   "source": [
    "init_session(use_gpu=False)\n",
    "cross_validate_multiple(folds, range(10), [0, 6], [0, 6])"
   ]
  },
  {
   "cell_type": "code",
   "execution_count": null,
   "metadata": {
    "collapsed": true
   },
   "outputs": [],
   "source": [
    "folds = load_crossvalidation_data(name='serialized')\n",
    "init_session(use_gpu=False)\n",
    "cross_validate(folds, [6], [6])\n",
    "cross_validate_multiple(folds, range(10), [0, 6], [0, 6])"
   ]
  },
  {
   "cell_type": "code",
   "execution_count": null,
   "metadata": {
    "collapsed": true
   },
   "outputs": [],
   "source": [
    "folds = load_crossvalidation_data(name='serialized')\n",
    "# init_session(use_gpu=False)\n",
    "cross_validate(folds, [6], [6])\n",
    "cross_validate_multiple(folds, [0, 6], [0, 6], [0, 1])\n",
    "cross_validate_multiple(folds, range(10), [0, 6], [0, 6])"
   ]
  },
  {
   "cell_type": "code",
   "execution_count": null,
   "metadata": {
    "collapsed": true
   },
   "outputs": [],
   "source": [
    "folds = load_crossvalidation_data(name='serialized')\n",
    "init_session(use_gpu=False)\n",
    "# cross_validate(folds, [6], [6])\n",
    "cross_validate_multiple(folds, range(10), [0, 6], [0, 6])"
   ]
  },
  {
   "cell_type": "code",
   "execution_count": null,
   "metadata": {
    "collapsed": true
   },
   "outputs": [],
   "source": []
  }
 ],
 "metadata": {
  "kernelspec": {
   "display_name": "Python (ai)",
   "language": "python",
   "name": "ai"
  },
  "language_info": {
   "codemirror_mode": {
    "name": "ipython",
    "version": 3
   },
   "file_extension": ".py",
   "mimetype": "text/x-python",
   "name": "python",
   "nbconvert_exporter": "python",
   "pygments_lexer": "ipython3",
   "version": "3.5.4"
  }
 },
 "nbformat": 4,
 "nbformat_minor": 2
}
