{
 "cells": [
  {
   "cell_type": "code",
   "execution_count": 46,
   "metadata": {},
   "outputs": [
    {
     "name": "stdout",
     "output_type": "stream",
     "text": [
      "/home/slav/ai/claim-rank\n",
      "The autoreload extension is already loaded. To reload it, use:\n",
      "  %reload_ext autoreload\n"
     ]
    }
   ],
   "source": [
    "%cd /home/slav/ai/claim-rank\n",
    "!export PYTHONPATH=.\n",
    "%load_ext autoreload\n",
    "%autoreload 2"
   ]
  },
  {
   "cell_type": "code",
   "execution_count": 47,
   "metadata": {},
   "outputs": [],
   "source": [
    "from tempfile import NamedTemporaryFile\n",
    "import numpy as np\n",
    "from src.models.keras.model_runner import *\n"
   ]
  },
  {
   "cell_type": "code",
   "execution_count": 48,
   "metadata": {
    "collapsed": true
   },
   "outputs": [],
   "source": [
    "from keras.layers import Input, Embedding, Conv1D, Dense\n",
    "from keras.models import Model, load_model\n",
    "from keras.layers import Input, Dense, Dropout\n",
    "from keras import optimizers\n",
    "from sklearn.metrics import average_precision_score"
   ]
  },
  {
   "cell_type": "code",
   "execution_count": 49,
   "metadata": {
    "collapsed": true
   },
   "outputs": [],
   "source": [
    "def load_crossvalidation_data(name='crossval'):\n",
    "    folds = np.load('folds/' + name + '.npy')\n",
    "    return folds;"
   ]
  },
  {
   "cell_type": "code",
   "execution_count": 57,
   "metadata": {
    "collapsed": true
   },
   "outputs": [],
   "source": [
    "def create_baseline_model(in_count, out_count):\n",
    "    input_layer = Input(shape=(in_count,))\n",
    "    x = Dense(1000, kernel_initializer='normal', activation='relu')(input_layer)\n",
    "    \n",
    "    outputs = list(map(lambda i: Dense(1, kernel_initializer='normal', activation='sigmoid', name='pred_' + str(i))(x), range(out_count)))\n",
    "\n",
    "    model = Model(inputs=[input_layer], outputs=outputs)\n",
    "    model.compile(optimizer='adam', \n",
    "                  loss='binary_crossentropy',\n",
    "                  metrics=['accuracy'],\n",
    "                  loss_weights=loss_weights)\n",
    "    return model;"
   ]
  },
  {
   "cell_type": "code",
   "execution_count": 51,
   "metadata": {
    "collapsed": true
   },
   "outputs": [],
   "source": [
    "def run_model(X_train, X_test, train_target, test_targets, create_model = create_baseline_model, epochs=15):\n",
    "    model = create_model(X_train.shape[1], 1)\n",
    "    model.fit(X_train, train_target, epochs=epochs, batch_size=550, verbose=0)\n",
    "    return [average_precision_score(test_targets[j], model.predict(X_test)[:, 0])\n",
    "         for j in range(len(test_targets))]\n",
    "    "
   ]
  },
  {
   "cell_type": "code",
   "execution_count": 52,
   "metadata": {
    "collapsed": true
   },
   "outputs": [],
   "source": [
    "def run_model_multiple(X_train, X_test, train_targets, test_targets, log_indexes, create_model = create_baseline_model, epochs=20):\n",
    "    model = create_model(X_train.shape[1], len(train_targets))\n",
    "    \n",
    "    \n",
    "    model.fit(X_train, train_targets, epochs=epochs, batch_size=550, verbose=0)\n",
    "    return [average_precision_score(test_targets[j], model.predict(X_test)[i][:, 0])\n",
    "            for j, i in enumerate(log_indexes)]"
   ]
  },
  {
   "cell_type": "code",
   "execution_count": 53,
   "metadata": {
    "collapsed": true
   },
   "outputs": [],
   "source": [
    "def cross_validate(folds, train_targets, test_targets):\n",
    "    models_sums = [0 for _ in test_targets]\n",
    "    for fold in folds:\n",
    "        X_train, X_test, y_train, y_test = fold\n",
    "        y_train = list(y_train[:, train_targets].T)\n",
    "        y_test = y_test[:, test_targets].T\n",
    "        models = run_model(X_train, X_test, y_train, y_test)\n",
    "        models_sums = [prev + curr for prev, curr in zip(models_sums, models)]\n",
    "\n",
    "    print(np.array(models_sums) / len(folds))"
   ]
  },
  {
   "cell_type": "code",
   "execution_count": 54,
   "metadata": {
    "collapsed": true
   },
   "outputs": [],
   "source": [
    "def cross_validate_multiple(folds, train_targets, test_targets, log_indexes):\n",
    "    models_sums = [0 for _ in test_targets]\n",
    "    for fold in folds:\n",
    "        X_train, X_test, y_train, y_test = fold\n",
    "        y_train = list(y_train[:, train_targets].T)\n",
    "        y_test = y_test[:, test_targets].T\n",
    "        models = run_model_multiple(X_train, X_test, y_train, y_test, log_indexes)\n",
    "        models_sums = [prev + curr for prev, curr in zip(models_sums, models)]\n",
    "\n",
    "    print(np.array(models_sums) / len(folds))"
   ]
  },
  {
   "cell_type": "code",
   "execution_count": 55,
   "metadata": {
    "collapsed": true
   },
   "outputs": [],
   "source": [
    "folds = load_crossvalidation_data(name='serialized')\n"
   ]
  },
  {
   "cell_type": "code",
   "execution_count": 12,
   "metadata": {},
   "outputs": [
    {
     "name": "stdout",
     "output_type": "stream",
     "text": [
      "[0.1889362]\n"
     ]
    }
   ],
   "source": [
    "init_session(use_gpu=False)\n",
    "cross_validate(folds, [6], [6])"
   ]
  },
  {
   "cell_type": "code",
   "execution_count": 16,
   "metadata": {},
   "outputs": [
    {
     "name": "stdout",
     "output_type": "stream",
     "text": [
      "[ 0.07586703]\n",
      "[ 0.06432117]\n",
      "[ 0.06344388]\n",
      "[ 0.09402855]\n",
      "[ 0.16960528]\n",
      "[ 0.21435139]\n",
      "[ 0.14386683]\n",
      "[ 0.13278658]\n",
      "[ 0.07033692]\n"
     ]
    }
   ],
   "source": [
    "for i in range(1,10):\n",
    "    cross_validate(folds, [i], [i])"
   ]
  },
  {
   "cell_type": "code",
   "execution_count": 14,
   "metadata": {},
   "outputs": [
    {
     "name": "stdout",
     "output_type": "stream",
     "text": [
      "[0.09046304 0.10566049 0.0910099  0.07913272 0.17872785 0.20270445\n",
      " 0.13284969 0.15193886 0.10933569]\n"
     ]
    }
   ],
   "source": [
    "cross_validate_multiple(folds, range(10), range(1, 10), range(1, 10))"
   ]
  },
  {
   "cell_type": "code",
   "execution_count": 16,
   "metadata": {},
   "outputs": [
    {
     "name": "stdout",
     "output_type": "stream",
     "text": [
      "[0.36771186 0.18494271]\n"
     ]
    }
   ],
   "source": [
    "cross_validate_multiple(folds, [0, 6], [0, 6], [0, 1])"
   ]
  },
  {
   "cell_type": "code",
   "execution_count": 13,
   "metadata": {},
   "outputs": [
    {
     "name": "stdout",
     "output_type": "stream",
     "text": [
      "[0.32238642 0.16125607]\n"
     ]
    }
   ],
   "source": [
    "init_session(use_gpu=False)\n",
    "cross_validate_multiple(folds, range(10), [0, 6], [0, 6])"
   ]
  },
  {
   "cell_type": "code",
   "execution_count": 12,
   "metadata": {},
   "outputs": [
    {
     "name": "stdout",
     "output_type": "stream",
     "text": [
      "[0.18784728]\n",
      "[0.37066138 0.19792223]\n"
     ]
    }
   ],
   "source": [
    "folds = load_crossvalidation_data(name='serialized')\n",
    "init_session(use_gpu=False)\n",
    "cross_validate(folds, [6], [6])\n",
    "cross_validate_multiple(folds, range(10), [0, 6], [0, 6])"
   ]
  },
  {
   "cell_type": "code",
   "execution_count": null,
   "metadata": {
    "collapsed": true
   },
   "outputs": [],
   "source": []
  },
  {
   "cell_type": "code",
   "execution_count": 11,
   "metadata": {},
   "outputs": [
    {
     "name": "stdout",
     "output_type": "stream",
     "text": [
      "[0.18944541]\n",
      "[0.31675787 0.14813076]\n",
      "[0.32264965 0.15744599]\n"
     ]
    }
   ],
   "source": [
    "folds = load_crossvalidation_data(name='serialized')\n",
    "# init_session(use_gpu=False)\n",
    "cross_validate(folds, [6], [6])\n",
    "cross_validate_multiple(folds, [0, 6], [0, 6], [0, 1])\n",
    "cross_validate_multiple(folds, range(10), [0, 6], [0, 6])"
   ]
  },
  {
   "cell_type": "code",
   "execution_count": 58,
   "metadata": {},
   "outputs": [
    {
     "name": "stdout",
     "output_type": "stream",
     "text": [
      "[0.38592118 0.19553073]\n"
     ]
    }
   ],
   "source": [
    "folds = load_crossvalidation_data(name='serialized')\n",
    "init_session(use_gpu=False)\n",
    "# cross_validate(folds, [6], [6])\n",
    "cross_validate_multiple(folds, range(10), [0, 6], [0, 6])"
   ]
  },
  {
   "cell_type": "code",
   "execution_count": null,
   "metadata": {
    "collapsed": true
   },
   "outputs": [],
   "source": []
  }
 ],
 "metadata": {
  "kernelspec": {
   "display_name": "Python (ai)",
   "language": "python",
   "name": "ai"
  },
  "language_info": {
   "codemirror_mode": {
    "name": "ipython",
    "version": 3
   },
   "file_extension": ".py",
   "mimetype": "text/x-python",
   "name": "python",
   "nbconvert_exporter": "python",
   "pygments_lexer": "ipython3",
   "version": "3.5.4"
  }
 },
 "nbformat": 4,
 "nbformat_minor": 2
}
